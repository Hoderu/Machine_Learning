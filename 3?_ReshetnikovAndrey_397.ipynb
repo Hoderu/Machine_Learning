{
 "cells": [
  {
   "cell_type": "markdown",
   "metadata": {},
   "source": [
    "# <center>Машинное обучение</center>\n",
    "<center><small>Домашнее задание 3</small></center>\n",
    "<center><i>Решетников Андрей, 397 группа</i></center>"
   ]
  },
  {
   "cell_type": "markdown",
   "metadata": {},
   "source": [
    "# Задание 1"
   ]
  },
  {
   "cell_type": "markdown",
   "metadata": {},
   "source": [
    "При жадном обучении решающих деревьев на каждом шаге выбирается разбиение, максимизирующее величину:\n",
    "$$ \\Delta = F(X, Y) - \\frac{(X_1,Y_1)}{(X, Y)}\\cdot H(X_1, Y_1) - \\frac{(X_2, Y_2)}{(X, Y)} \\cdot H(X_2, Y_2) $$\n",
    "где $(X,Y)$ выборка в исходной вершине, где $(X_1,Y_1)$, $(X_2,Y_2)$ - выборки в вершинах-потомках, а функция $H(X,Y)$ - некоторая мера неоднородности выборки $(X,Y)$\n",
    "\n",
    "Общепринятыми функциями являются:\n",
    " $$ 1.\\ H(X, Y) = - \\sum_{y_i\\in Y}p_{y_i}\\log(p_{y_i}) - энтропия$$ \n",
    " $$ 2.\\ H(X, Y) = 1 - \\sum_{y_i\\in Y}p_{y_i}^2 - индекс Джини$$ \n",
    " $$ 3.\\ H(X, Y) = 1 - \\max {p_{y_i}} - вероятность ошибочной классификации$$ "
   ]
  },
  {
   "cell_type": "code",
   "execution_count": 25,
   "metadata": {
    "collapsed": false
   },
   "outputs": [],
   "source": [
    "from numpy import *\n",
    "\n",
    "def entropy(x):\n",
    "    chance = [value / sum(x) for value in x]\n",
    "    return sum(-p * log2(p) for p in chance)\n",
    "\n",
    "def giney_index(x):\n",
    "    chance = [value / sum(x) for value in x]\n",
    "    return 1 - sum(p ** 2 for p in chance)\n",
    "\n",
    "def chance_error_classification(x):\n",
    "    chance = [value / sum(x) for value in x]\n",
    "    return 1 - max(chance)\n",
    "\n",
    "def delta(x, y, func):\n",
    "    S1 = sum(x)\n",
    "    S2 = sum(y)\n",
    "    S = S1 + S2\n",
    "    return - S1 / S * func(x) - S2 / S * func(y)"
   ]
  },
  {
   "cell_type": "markdown",
   "metadata": {
    "collapsed": true
   },
   "source": [
    "На первом шаге из 3 случаев, у нас всего 2 варианта разбиения\n",
    "\n",
    "Для энтропии:"
   ]
  },
  {
   "cell_type": "code",
   "execution_count": 26,
   "metadata": {
    "collapsed": false
   },
   "outputs": [
    {
     "name": "stdout",
     "output_type": "stream",
     "text": [
      "-1.33333333333 -1.25162916739\n"
     ]
    }
   ],
   "source": [
    "print(delta([200], [100, 100, 100, 100], entropy), delta([200, 100], [100, 100, 100], entropy))"
   ]
  },
  {
   "cell_type": "markdown",
   "metadata": {},
   "source": [
    "Индекс Джини:"
   ]
  },
  {
   "cell_type": "code",
   "execution_count": 27,
   "metadata": {
    "collapsed": false
   },
   "outputs": [
    {
     "name": "stdout",
     "output_type": "stream",
     "text": [
      "-0.5 -0.555555555556\n"
     ]
    }
   ],
   "source": [
    "print(delta([200], [100, 100, 100, 100], giney_index), delta([200, 100], [100, 100, 100], giney_index))"
   ]
  },
  {
   "cell_type": "markdown",
   "metadata": {},
   "source": [
    "Вероятность ошибочной классификации:"
   ]
  },
  {
   "cell_type": "code",
   "execution_count": 28,
   "metadata": {
    "collapsed": false
   },
   "outputs": [
    {
     "name": "stdout",
     "output_type": "stream",
     "text": [
      "-0.5 -0.5\n"
     ]
    }
   ],
   "source": [
    "print(delta([200], [100, 100, 100, 100], chance_error_classification), delta([200, 100], [100, 100, 100], chance_error_classification))"
   ]
  },
  {
   "cell_type": "markdown",
   "metadata": {},
   "source": [
    "Заметим, что случай с энтропией лучше для второго разбиения, значит картинка 3 относится к энтропии\n",
    "Проделаем то же самое для второго шага, для разбиений [100, 50, 50]:[50, 50, 100] и [95, 80, 20, 5]:[5, 20, 80, 95]\n",
    "\n",
    "Индекс Джини:"
   ]
  },
  {
   "cell_type": "code",
   "execution_count": 29,
   "metadata": {
    "collapsed": false
   },
   "outputs": [
    {
     "name": "stdout",
     "output_type": "stream",
     "text": [
      "-0.625 -0.60375\n"
     ]
    }
   ],
   "source": [
    "print(delta([100, 50, 50], [50, 50, 100], giney_index), delta([95, 80, 20, 5], [5, 20, 80, 95], giney_index))"
   ]
  },
  {
   "cell_type": "markdown",
   "metadata": {},
   "source": [
    "Вероятность ошибочной классификации:"
   ]
  },
  {
   "cell_type": "code",
   "execution_count": 30,
   "metadata": {
    "collapsed": false
   },
   "outputs": [
    {
     "name": "stdout",
     "output_type": "stream",
     "text": [
      "-0.5 -0.525\n"
     ]
    }
   ],
   "source": [
    "print(delta([100, 50, 50], [50, 50, 100], chance_error_classification), delta([95, 80, 20, 5], [5, 20, 80, 95], chance_error_classification))"
   ]
  },
  {
   "cell_type": "markdown",
   "metadata": {},
   "source": [
    "В итоге индекс Джини - второе разбиение, ошибочная классификация - первое"
   ]
  },
  {
   "cell_type": "markdown",
   "metadata": {},
   "source": [
    "# Задание 2"
   ]
  },
  {
   "cell_type": "markdown",
   "metadata": {},
   "source": [
    "Псевдокод с семинара:"
   ]
  },
  {
   "cell_type": "code",
   "execution_count": 37,
   "metadata": {
    "collapsed": false
   },
   "outputs": [
    {
     "data": {
      "text/plain": [
       "'\\nGA with only mutations --> Stochastic Search (T mutations over individual)\\nB=1 --> Stochastic Local Search\\n\\nAdaptation (idea): to increase probability of good features and to decrease probability of bad ones.\\n\\nAlgorithm:\\n1. p_1 = .. = p_n = 1 / n (feature uniform distribution)\\n2. for j in j_0 .. n: (feature set size)\\n3.     for t in 1..T: (iteration count)\\n4.         F_j = generate r feature sets of size j based on (p_1,...,p_n) distribution\\n5.         F_worse = argmax_{S \\\\in F_j} Q(S) (worse)\\n           F_best = argmax_{S \\\\in F_j} Q(S) (best)\\n6.         H = 0 (delta)\\n           for f_i in F_worse:\\n               p_delta = min(p_i, h)\\n               p_i -= p_delta\\n               H += p_delta\\n           for f_i in F_best:\\n               p_i += H / j\\n7.      j* = argmin_{s <= j} Q(F_s)\\n8.      if j - j* >= d:\\n            return F_j*\\n\\nDegrees of freedom:\\n* r (level of significance 0.05 -> 39, 0.1 -> 19. Analogy with ShuffleSplit)\\n* T (iteration count: 10-50)\\n* h (degree of adaptation: try to skip zero probabilities, e.g. (1 - p_min) / rn)\\n\\nPro:\\n* Should be better than AddDel (in quality)\\n* Convergence speeds up with adaptation\\n'"
      ]
     },
     "execution_count": 37,
     "metadata": {},
     "output_type": "execute_result"
    }
   ],
   "source": [
    "\"\"\"\n",
    "GA with only mutations --> Stochastic Search (T mutations over individual)\n",
    "B=1 --> Stochastic Local Search\n",
    "\n",
    "Adaptation (idea): to increase probability of good features and to decrease probability of bad ones.\n",
    "\n",
    "Algorithm:\n",
    "1. p_1 = .. = p_n = 1 / n (feature uniform distribution)\n",
    "2. for j in j_0 .. n: (feature set size)\n",
    "3.     for t in 1..T: (iteration count)\n",
    "4.         F_j = generate r feature sets of size j based on (p_1,...,p_n) distribution\n",
    "5.         F_worse = argmax_{S \\in F_j} Q(S) (worse)\n",
    "           F_best = argmax_{S \\in F_j} Q(S) (best)\n",
    "6.         H = 0 (delta)\n",
    "           for f_i in F_worse:\n",
    "               p_delta = min(p_i, h)\n",
    "               p_i -= p_delta\n",
    "               H += p_delta\n",
    "           for f_i in F_best:\n",
    "               p_i += H / j\n",
    "7.      j* = argmin_{s <= j} Q(F_s)\n",
    "8.      if j - j* >= d:\n",
    "            return F_j*\n",
    "\n",
    "Degrees of freedom:\n",
    "* r (level of significance 0.05 -> 39, 0.1 -> 19. Analogy with ShuffleSplit)\n",
    "* T (iteration count: 10-50)\n",
    "* h (degree of adaptation: try to skip zero probabilities, e.g. (1 - p_min) / rn)\n",
    "\n",
    "Pro:\n",
    "* Should be better than AddDel (in quality)\n",
    "* Convergence speeds up with adaptation\n",
    "\"\"\""
   ]
  },
  {
   "cell_type": "code",
   "execution_count": 31,
   "metadata": {
    "collapsed": true
   },
   "outputs": [],
   "source": [
    "import numpy as np\n",
    "\n",
    "def SLS(estimator, X_train, Y_train, X_test, Y_test, r, T, h, d):\n",
    "    global_current_best_score = 0 \n",
    "    global_current_best_set = []\n",
    "    n = X_train.shape[1] \n",
    "    p = [1 / n] * n \n",
    "    non_change = 0\n",
    "    for index_j in range(1, n + 1):\n",
    "        local_current_best_set = []\n",
    "        local_current_best_score = 0\n",
    "        for index_t in range(T):\n",
    "            variates = [np.random.choice(n, index_j, replace = False, p = p) for q in range(r)]\n",
    "            min_current_score = 1\n",
    "            max_current_score = 0\n",
    "            feature_set_best = []\n",
    "            feature_set_worst = []\n",
    "            for feature_set in variates:\n",
    "                estimator.fit(X_train[:, feature_set], Y_train)\n",
    "                result = estimator.score(X_test[:, feature_set], Y_test)\n",
    "                if result > max_current_score:\n",
    "                    max_current_score = result\n",
    "                    feature_set_best = feature_set\n",
    "                if result < min_current_score:\n",
    "                    min_current_score = result\n",
    "                    feature_set_worst = feature_set\n",
    "                if result > local_current_best_score:\n",
    "                    local_current_best_score = result\n",
    "                    local_current_best_set = feature_set\n",
    "            delta_H = 0 \n",
    "            for bad_feature in feature_set_worst:\n",
    "                p_delta = min(p[bad_feature], h)\n",
    "                p[bad_feature] -= p_delta\n",
    "                delta_H += p_delta\n",
    "            for good_feature in feature_set_best:\n",
    "                p[good_feature] += delta_H / index_j\n",
    "        estimator.fit(X_train[:, local_current_best_set], Y_train)\n",
    "        current_score = estimator.score(X_test[:, local_current_best_set], Y_test)\n",
    "        if current_score > global_current_best_score:\n",
    "            global_current_best_score = current_score\n",
    "            global_current_best_set = local_current_best_set\n",
    "            non_change = 0\n",
    "        else:\n",
    "            non_change += 1\n",
    "        if non_change >= d:\n",
    "            break;\n",
    "    return global_current_best_set"
   ]
  },
  {
   "cell_type": "code",
   "execution_count": 34,
   "metadata": {
    "collapsed": false
   },
   "outputs": [],
   "source": [
    "from pandas import read_csv\n",
    "\n",
    "data= read_csv('/Users/Hoderu/Downloads/train.csv')[:1500]\n",
    "train = data[:500]\n",
    "test = data[500:1000]\n",
    "X_train = np.asarray(train[list(range(1, 785))])\n",
    "Y_train = np.asarray(train['label'])\n",
    "X_test = np.asarray(test[list(range(1, 785))])\n",
    "Y_test = np.asarray(test['label'])\n",
    "X_control = np.asarray(test[list(range(1, 785))])\n",
    "Y_control = np.asarray(test['label'])"
   ]
  },
  {
   "cell_type": "code",
   "execution_count": 35,
   "metadata": {
    "collapsed": true
   },
   "outputs": [],
   "source": [
    "from sklearn.neighbors import KNeighborsClassifier\n",
    "\n",
    "estimator = KNeighborsClassifier(algorithm='ball_tree')\n",
    "selected_features = SLS(estimator, X_train, Y_train, X_test, Y_test, r=19, T=10, h=1/16000, d=10)"
   ]
  },
  {
   "cell_type": "code",
   "execution_count": 36,
   "metadata": {
    "collapsed": false
   },
   "outputs": [
    {
     "name": "stdout",
     "output_type": "stream",
     "text": [
      "0.874\n"
     ]
    },
    {
     "data": {
      "image/png": "[encoded data removed]",
      "text/plain": [
       "<matplotlib.figure.Figure at 0x114258048>"
      ]
     },
     "metadata": {},
     "output_type": "display_data"
    }
   ],
   "source": [
    "%matplotlib inline\n",
    "\n",
    "from matplotlib import pylab\n",
    "\n",
    "to_plot = np.asarray([0] * 784)\n",
    "to_plot[selected_features] = 255\n",
    "pylab.imshow(to_plot.reshape(28, 28), cmap='winter')\n",
    "estimator.fit(X_test[:, selected_features], Y_test)\n",
    "print(estimator.score(X_control[:, selected_features], Y_control))"
   ]
  },
  {
   "cell_type": "markdown",
   "metadata": {},
   "source": [
    "# Качество распознавания 87,4%"
   ]
  },
  {
   "cell_type": "code",
   "execution_count": null,
   "metadata": {
    "collapsed": true
   },
   "outputs": [],
   "source": []
  }
 ],
 "metadata": {
  "kernelspec": {
   "display_name": "Python 3",
   "language": "python",
   "name": "python3"
  },
  "language_info": {
   "codemirror_mode": {
    "name": "ipython",
    "version": 3
   },
   "file_extension": ".py",
   "mimetype": "text/x-python",
   "name": "python",
   "nbconvert_exporter": "python",
   "pygments_lexer": "ipython3",
   "version": "3.5.1"
  }
 },
 "nbformat": 4,
 "nbformat_minor": 0
}
