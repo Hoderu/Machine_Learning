{
 "cells": [
  {
   "cell_type": "markdown",
   "metadata": {},
   "source": [
    "Задача 2"
   ]
  },
  {
   "cell_type": "code",
   "execution_count": 1,
   "metadata": {
    "collapsed": false
   },
   "outputs": [],
   "source": [
    "import numpy as np\n",
    "import pandas as pd\n",
    "from matplotlib import pylab, gridspec\n",
    "from collections import Counter\n",
    "\n",
    "train = pd.read_csv('/Users/Hoderu/train.csv')\n",
    "# Basic train dataset contains: 42 000 examples\n",
    "# It will take too long to processs this data during the class\n",
    "# Black Magic\n",
    "train = train[:1000]\n",
    "X_train = np.asarray(train[list(range(1,785))])\n",
    "Y_train = np.asarray(train[[0]]).ravel()"
   ]
  },
  {
   "cell_type": "code",
   "execution_count": 2,
   "metadata": {
    "collapsed": true
   },
   "outputs": [],
   "source": [
    "from sklearn.cross_validation import KFold, StratifiedKFold, ShuffleSplit\n",
    "from sklearn.neighbors import KNeighborsClassifier\n",
    "\n",
    "estimator = KNeighborsClassifier(algorithm='ball_tree')\n",
    "\n",
    "def get_score(cv_strategy):\n",
    "    result = 0;\n",
    "    for train_indices, test_indices in cv_strategy:\n",
    "        estimator.fit(X_train[train_indices], Y_train[train_indices])\n",
    "        result += estimator.score(X_train[test_indices], Y_train[test_indices])\n",
    "    return result"
   ]
  },
  {
   "cell_type": "code",
   "execution_count": 3,
   "metadata": {
    "collapsed": true
   },
   "outputs": [],
   "source": [
    "from sklearn.cross_validation import ShuffleSplit\n",
    "\n",
    "def get_partition(test_amount):\n",
    "    n = len(X_train)\n",
    "    strategy = KFold(n, n_folds = n / test_amount)\n",
    "    return get_score(strategy) / len(strategy)"
   ]
  },
  {
   "cell_type": "code",
   "execution_count": 4,
   "metadata": {
    "collapsed": false,
    "scrolled": true
   },
   "outputs": [
    {
     "data": {
      "image/png": "[encoded data removed]",
      "text/plain": [
       "<matplotlib.figure.Figure at 0x116344e50>"
      ]
     },
     "metadata": {},
     "output_type": "display_data"
    }
   ],
   "source": [
    "%matplotlib inline\n",
    "\n",
    "from matplotlib import pyplot\n",
    "import numpy as np\n",
    "\n",
    "ratios = np.arange(1, len(X_train) / 2)\n",
    "results = [get_partition(ratio) for ratio in ratios]\n",
    "pyplot.plot(ratios, results)\n",
    "pyplot.show()"
   ]
  },
  {
   "cell_type": "markdown",
   "metadata": {
    "collapsed": true
   },
   "source": [
    "## Задача 2"
   ]
  },
  {
   "cell_type": "markdown",
   "metadata": {
    "collapsed": true
   },
   "source": [
    "Регрессивная функция штрафа $L(y, \\hat{y}) = (y-\\hat{y})^2$. Докажем формулы $bias^2$ и $variance$ для следующих моделей."
   ]
  },
  {
   "cell_type": "markdown",
   "metadata": {
    "collapsed": true
   },
   "source": [
    "$\\hat{y_1}=\\frac{1}{l}\\sum\\limits_{i=1}^{l}y_i$\n",
    "\n",
    "$bias^2\\{\\hat{y_1}\\}$ = $(\\mathsf{E}y-\\mathsf{E}\\hat{y_1})^2$ = |подставляем модель| = $(\\mathsf{E}y-\\mathsf{E}(\\frac{1}{l}\\sum\\limits_{i=1}^{l}y_i))^2$ = |все $y_i$ распределены одинаково| = $(Ey-\\frac{1}{l} \\cdot l \\cdot \\mathsf{E}y)^2$ = $(Ey - Ey)^2$ = 0\n",
    "\n",
    "$var_{LS}\\{\\hat{y_1}\\}$ = $var_{LS}(\\frac{1}{l}\\sum\\limits_{i=1}^{l}y_i)$ = $\\frac{1}{l^2}var_{LS}(\\sum\\limits_{i=1}^{l}y_i)$ = $\\frac{1}{l^2}\\sum\\limits_{i=1}^{l}var_{LS}y_i$ = $\\frac{1}{l^2} \\cdot l \\cdot var_{Y}y$ = $\\frac{1}{l}var_{Y}y$ = $\\frac{1}{l}var_{Y}{y}$\n",
    "\n",
    "\n",
    "Вторая модель:\n",
    "\n",
    "$\\hat{y_2}=\\frac{\\lambda \\cdot 180 + \\sum_{i=1}^{l}y_i}{\\lambda + l}$\n",
    "\n",
    "$bias^2\\{\\hat{y_2}\\}$ = $(\\mathsf{E}y-\\mathsf{E}\\hat{y_2})^2$ = |подставляем модель| = $(\\mathsf{E}y$ - $\\mathsf{E}\\frac{\\lambda \\cdot 180 + \\sum_{i=1}^{l}y_i}{\\lambda + l})^2$ = $(\\mathsf{E}y$ - $\\frac{180\\lambda}{\\lambda + l} - \\frac{l\\mathsf{E}y}{\\lambda + l})^2$ = $(\\frac{\\lambda\\mathsf{E}y - 180\\lambda}{\\lambda + l})^2$ = $(\\frac{\\lambda}{\\lambda + l})^2(\\mathsf{E}y - 180)^2$ = $\\left(\\frac{\\lambda}{\\lambda + l}\\right)^2 (\\mathsf{E}_{Y}\\{y\\} - 180)^2 $\n",
    "\n",
    "$var_{LS}\\{\\hat{y_2}\\}$ = $var_{LS}\\frac{\\lambda \\cdot 180 + \\sum_{i=1}^{l}y_i}{\\lambda + l}$ = $\\frac{1}{(\\lambda + l)^2}\\sum\\limits_{i=1}^{l}var_{LS}{y_i}$ = $\\frac{l}{(\\lambda + l)^2} var_Yy$ = $\\frac{l}{(\\lambda + l)^2} var_Yy$"
   ]
  },
  {
   "cell_type": "markdown",
   "metadata": {},
   "source": [
    "Нужно описать ситуацию, когда вторая модель окажется точнее первой, это так, если выполнено неравенство: $bias^2\\{\\hat{y_2}\\}$ + $var_{LS}\\{\\hat{y_2}\\}$ <= $bias^2\\{\\hat{y_1}\\}$ + $var_{LS}\\{\\hat{y_1}\\}$. Например при 𝖤y=180."
   ]
  },
  {
   "cell_type": "code",
   "execution_count": null,
   "metadata": {
    "collapsed": true
   },
   "outputs": [],
   "source": []
  },
  {
   "cell_type": "code",
   "execution_count": null,
   "metadata": {
    "collapsed": true
   },
   "outputs": [],
   "source": []
  }
 ],
 "metadata": {
  "kernelspec": {
   "display_name": "Python 2",
   "language": "python",
   "name": "python2"
  },
  "language_info": {
   "codemirror_mode": {
    "name": "ipython",
    "version": 2
   },
   "file_extension": ".py",
   "mimetype": "text/x-python",
   "name": "python",
   "nbconvert_exporter": "python",
   "pygments_lexer": "ipython2",
   "version": "2.7.11"
  }
 },
 "nbformat": 4,
 "nbformat_minor": 0
}
