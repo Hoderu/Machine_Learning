{
 "cells": [
  {
   "cell_type": "markdown",
   "metadata": {},
   "source": [
    "# <center>Машинное обучение</center>\n",
    "<center><small>Домашнее задание 2</small></center>\n",
    "<center><i>Решетников Андрей, 397 группа</i></center>"
   ]
  },
  {
   "cell_type": "markdown",
   "metadata": {},
   "source": [
    "# Задача 1"
   ]
  },
  {
   "cell_type": "markdown",
   "metadata": {},
   "source": [
    "Пусть $\\xi_1$ и $\\xi_2$ - шум из условия задачи - независимые, распределенные равномерно на $[0; 1]$ случайные величины. Задача сводится к вычислению вероятности $P(0.5^2 + \\xi_2^2 \\leq 0.1^2 + \\xi_1^2)$. Вычислим её:\n",
    "$$P(0.5^2 + \\xi_2^2 \\leq 0.1^2 + \\xi_1^2) = P(\\xi_1^2 \\geq 0.24 + \\xi_2^2) = \\int\\limits_0^{\\sqrt{0.76}}\\left(\\int\\limits_{\\sqrt{0.4+x_2^2}}^1dx_1\\right)dx_2 = \\int\\limits_0^\\sqrt{{0.76}}(1 - \\sqrt{x_2^2+0.24})dx_2 \\approx 0.275$$"
   ]
  },
  {
   "cell_type": "markdown",
   "metadata": {},
   "source": [
    "Таким образом, искомая вероятность равна $27,5\\%$."
   ]
  },
  {
   "cell_type": "markdown",
   "metadata": {},
   "source": [
    "# Задача 2 "
   ]
  },
  {
   "cell_type": "code",
   "execution_count": 39,
   "metadata": {
    "collapsed": true
   },
   "outputs": [],
   "source": [
    "import random\n",
    "import math\n",
    "\n",
    "d = [10, 50, 100, 500]\n",
    "sample = 5000\n",
    "iteration = 100"
   ]
  },
  {
   "cell_type": "markdown",
   "metadata": {},
   "source": [
    "Генерируем sample d-мерных точек "
   ]
  },
  {
   "cell_type": "code",
   "execution_count": 40,
   "metadata": {
    "collapsed": true
   },
   "outputs": [],
   "source": [
    "def createPoints(d):\n",
    "    return [[random.random() for y in range(d)] for x in range(sample)]\n",
    "\n",
    "#print createPoints(10)"
   ]
  },
  {
   "cell_type": "markdown",
   "metadata": {},
   "source": [
    "Выбираем максимум из координат точки, это будет минимальный кубик, берем пятый в отсортированном массиве"
   ]
  },
  {
   "cell_type": "code",
   "execution_count": 41,
   "metadata": {
    "collapsed": false
   },
   "outputs": [],
   "source": [
    "def find(iterations):\n",
    "    return sorted([max(x) for x in createPoints(d[iterations])])[4]"
   ]
  },
  {
   "cell_type": "markdown",
   "metadata": {},
   "source": [
    "Делаем iteration раз и берем 95 в осортированном массиве"
   ]
  },
  {
   "cell_type": "code",
   "execution_count": 45,
   "metadata": {
    "collapsed": false
   },
   "outputs": [],
   "source": [
    "list_result = list()\n",
    "\n",
    "for d_i in range(4):\n",
    "    result = sorted([find(d_i) for i in range(iteration)])[94]\n",
    "    list_result.append(result)\n"
   ]
  },
  {
   "cell_type": "code",
   "execution_count": 46,
   "metadata": {
    "collapsed": false
   },
   "outputs": [
    {
     "name": "stdout",
     "output_type": "stream",
     "text": [
      "d = 10 delta = 0.533129515282\n",
      "d = 50 delta = 0.8823648447\n",
      "d = 100 delta = 0.937787270756\n",
      "d = 500 delta = 0.987501784465\n"
     ]
    },
    {
     "data": {
      "image/png": "[encoded data removed]",
      "text/plain": [
       "<matplotlib.figure.Figure at 0x107d4a410>"
      ]
     },
     "metadata": {},
     "output_type": "display_data"
    }
   ],
   "source": [
    "%matplotlib inline\n",
    "\n",
    "from matplotlib import pyplot\n",
    "pyplot.plot(d, list_result)\n",
    "\n",
    "for i in range(4):\n",
    "    print(\"d = \" + str(d[i]) + \" delta = \" + str(list_result[i]))"
   ]
  },
  {
   "cell_type": "code",
   "execution_count": null,
   "metadata": {
    "collapsed": true
   },
   "outputs": [],
   "source": []
  }
 ],
 "metadata": {
  "kernelspec": {
   "display_name": "Python 2",
   "language": "python",
   "name": "python2"
  },
  "language_info": {
   "codemirror_mode": {
    "name": "ipython",
    "version": 2
   },
   "file_extension": ".py",
   "mimetype": "text/x-python",
   "name": "python",
   "nbconvert_exporter": "python",
   "pygments_lexer": "ipython2",
   "version": "2.7.11"
  }
 },
 "nbformat": 4,
 "nbformat_minor": 0
}
